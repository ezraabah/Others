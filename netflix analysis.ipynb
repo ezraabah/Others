{
 "cells": [
  {
   "cell_type": "markdown",
   "metadata": {},
   "source": [
    "## Analysis of Netflix Viewing History"
   ]
  },
  {
   "cell_type": "code",
   "execution_count": 1,
   "metadata": {},
   "outputs": [],
   "source": [
    "\n",
    "import matplotlib as mlt\n",
    "import numpy as np\n",
    "import pandas as pd\n",
    "import seaborn as sns\n",
    "import matplotlib.pyplot as plt\n",
    "from scipy import stats\n",
    "import datetime\n",
    "sns.set()"
   ]
  },
  {
   "cell_type": "code",
   "execution_count": 2,
   "metadata": {},
   "outputs": [],
   "source": [
    "df = pd.read_csv('NetflixViewingHistory.csv')"
   ]
  },
  {
   "cell_type": "code",
   "execution_count": 3,
   "metadata": {},
   "outputs": [
    {
     "data": {
      "text/html": [
       "<div>\n",
       "<style scoped>\n",
       "    .dataframe tbody tr th:only-of-type {\n",
       "        vertical-align: middle;\n",
       "    }\n",
       "\n",
       "    .dataframe tbody tr th {\n",
       "        vertical-align: top;\n",
       "    }\n",
       "\n",
       "    .dataframe thead th {\n",
       "        text-align: right;\n",
       "    }\n",
       "</style>\n",
       "<table border=\"1\" class=\"dataframe\">\n",
       "  <thead>\n",
       "    <tr style=\"text-align: right;\">\n",
       "      <th></th>\n",
       "      <th>Title</th>\n",
       "      <th>Date</th>\n",
       "    </tr>\n",
       "  </thead>\n",
       "  <tbody>\n",
       "    <tr>\n",
       "      <th>0</th>\n",
       "      <td>You Me Her: Season 4: The Deaf Leading the Bli...</td>\n",
       "      <td>26/10/2020</td>\n",
       "    </tr>\n",
       "    <tr>\n",
       "      <th>1</th>\n",
       "      <td>You Me Her: Season 4: The Saddest Clown Show Ever</td>\n",
       "      <td>25/10/2020</td>\n",
       "    </tr>\n",
       "    <tr>\n",
       "      <th>2</th>\n",
       "      <td>You Me Her: Season 4: Triangular Peg, Meet Rou...</td>\n",
       "      <td>25/10/2020</td>\n",
       "    </tr>\n",
       "    <tr>\n",
       "      <th>3</th>\n",
       "      <td>Over the Moon</td>\n",
       "      <td>25/10/2020</td>\n",
       "    </tr>\n",
       "    <tr>\n",
       "      <th>4</th>\n",
       "      <td>Rebecca</td>\n",
       "      <td>24/10/2020</td>\n",
       "    </tr>\n",
       "  </tbody>\n",
       "</table>\n",
       "</div>"
      ],
      "text/plain": [
       "                                               Title        Date\n",
       "0  You Me Her: Season 4: The Deaf Leading the Bli...  26/10/2020\n",
       "1  You Me Her: Season 4: The Saddest Clown Show Ever  25/10/2020\n",
       "2  You Me Her: Season 4: Triangular Peg, Meet Rou...  25/10/2020\n",
       "3                                      Over the Moon  25/10/2020\n",
       "4                                            Rebecca  24/10/2020"
      ]
     },
     "execution_count": 3,
     "metadata": {},
     "output_type": "execute_result"
    }
   ],
   "source": [
    "df.head()"
   ]
  },
  {
   "cell_type": "code",
   "execution_count": 4,
   "metadata": {},
   "outputs": [],
   "source": [
    "df['Date'] = pd.to_datetime(df['Date'])\n",
    "df['Year'], df['Month'] = df['Date'].dt.year, df['Date'].dt.month_name()\n",
    "df['Day'] = df['Date'].dt.day\n",
    "df['Day_of_week'] = df['Date'].dt.day_name()"
   ]
  },
  {
   "cell_type": "code",
   "execution_count": 5,
   "metadata": {},
   "outputs": [],
   "source": [
    "show_details = df.Title.str.split(\":\",expand=True,n=2)\n",
    "#show_details\n",
    "df['show_name'] = show_details[0]\n",
    "df['season'] = show_details[1]\n",
    "df['episode_name'] = show_details[2]"
   ]
  },
  {
   "cell_type": "code",
   "execution_count": 6,
   "metadata": {},
   "outputs": [
    {
     "data": {
      "text/html": [
       "<div>\n",
       "<style scoped>\n",
       "    .dataframe tbody tr th:only-of-type {\n",
       "        vertical-align: middle;\n",
       "    }\n",
       "\n",
       "    .dataframe tbody tr th {\n",
       "        vertical-align: top;\n",
       "    }\n",
       "\n",
       "    .dataframe thead th {\n",
       "        text-align: right;\n",
       "    }\n",
       "</style>\n",
       "<table border=\"1\" class=\"dataframe\">\n",
       "  <thead>\n",
       "    <tr style=\"text-align: right;\">\n",
       "      <th></th>\n",
       "      <th>Title</th>\n",
       "      <th>Date</th>\n",
       "      <th>Year</th>\n",
       "      <th>Month</th>\n",
       "      <th>Day</th>\n",
       "      <th>Day_of_week</th>\n",
       "      <th>show_name</th>\n",
       "      <th>season</th>\n",
       "      <th>episode_name</th>\n",
       "      <th>show_type</th>\n",
       "    </tr>\n",
       "  </thead>\n",
       "  <tbody>\n",
       "    <tr>\n",
       "      <th>0</th>\n",
       "      <td>You Me Her: Season 4: The Deaf Leading the Bli...</td>\n",
       "      <td>2020-10-26</td>\n",
       "      <td>2020</td>\n",
       "      <td>October</td>\n",
       "      <td>26</td>\n",
       "      <td>Monday</td>\n",
       "      <td>You Me Her</td>\n",
       "      <td>Season 4</td>\n",
       "      <td>The Deaf Leading the Blind Leading the Stupid</td>\n",
       "      <td>TV Show</td>\n",
       "    </tr>\n",
       "    <tr>\n",
       "      <th>1</th>\n",
       "      <td>You Me Her: Season 4: The Saddest Clown Show Ever</td>\n",
       "      <td>2020-10-25</td>\n",
       "      <td>2020</td>\n",
       "      <td>October</td>\n",
       "      <td>25</td>\n",
       "      <td>Sunday</td>\n",
       "      <td>You Me Her</td>\n",
       "      <td>Season 4</td>\n",
       "      <td>The Saddest Clown Show Ever</td>\n",
       "      <td>TV Show</td>\n",
       "    </tr>\n",
       "    <tr>\n",
       "      <th>2</th>\n",
       "      <td>You Me Her: Season 4: Triangular Peg, Meet Rou...</td>\n",
       "      <td>2020-10-25</td>\n",
       "      <td>2020</td>\n",
       "      <td>October</td>\n",
       "      <td>25</td>\n",
       "      <td>Sunday</td>\n",
       "      <td>You Me Her</td>\n",
       "      <td>Season 4</td>\n",
       "      <td>Triangular Peg, Meet Round Hole</td>\n",
       "      <td>TV Show</td>\n",
       "    </tr>\n",
       "    <tr>\n",
       "      <th>3</th>\n",
       "      <td>Over the Moon</td>\n",
       "      <td>2020-10-25</td>\n",
       "      <td>2020</td>\n",
       "      <td>October</td>\n",
       "      <td>25</td>\n",
       "      <td>Sunday</td>\n",
       "      <td>Over the Moon</td>\n",
       "      <td>None</td>\n",
       "      <td>None</td>\n",
       "      <td>Movie</td>\n",
       "    </tr>\n",
       "    <tr>\n",
       "      <th>4</th>\n",
       "      <td>Rebecca</td>\n",
       "      <td>2020-10-24</td>\n",
       "      <td>2020</td>\n",
       "      <td>October</td>\n",
       "      <td>24</td>\n",
       "      <td>Saturday</td>\n",
       "      <td>Rebecca</td>\n",
       "      <td>None</td>\n",
       "      <td>None</td>\n",
       "      <td>Movie</td>\n",
       "    </tr>\n",
       "    <tr>\n",
       "      <th>...</th>\n",
       "      <td>...</td>\n",
       "      <td>...</td>\n",
       "      <td>...</td>\n",
       "      <td>...</td>\n",
       "      <td>...</td>\n",
       "      <td>...</td>\n",
       "      <td>...</td>\n",
       "      <td>...</td>\n",
       "      <td>...</td>\n",
       "      <td>...</td>\n",
       "    </tr>\n",
       "    <tr>\n",
       "      <th>515</th>\n",
       "      <td>Ashley Garcia: Genius in Love: Part 2: Uninten...</td>\n",
       "      <td>2020-07-20</td>\n",
       "      <td>2020</td>\n",
       "      <td>July</td>\n",
       "      <td>20</td>\n",
       "      <td>Monday</td>\n",
       "      <td>Ashley Garcia</td>\n",
       "      <td>Genius in Love</td>\n",
       "      <td>Part 2: Unintended Consequences</td>\n",
       "      <td>TV Show</td>\n",
       "    </tr>\n",
       "    <tr>\n",
       "      <th>516</th>\n",
       "      <td>Ashley Garcia: Genius in Love: Part 2: Failure...</td>\n",
       "      <td>2020-07-20</td>\n",
       "      <td>2020</td>\n",
       "      <td>July</td>\n",
       "      <td>20</td>\n",
       "      <td>Monday</td>\n",
       "      <td>Ashley Garcia</td>\n",
       "      <td>Genius in Love</td>\n",
       "      <td>Part 2: Failure Is Not an Option</td>\n",
       "      <td>TV Show</td>\n",
       "    </tr>\n",
       "    <tr>\n",
       "      <th>517</th>\n",
       "      <td>Ashley Garcia: Genius in Love: Part 2: In Tad ...</td>\n",
       "      <td>2020-07-20</td>\n",
       "      <td>2020</td>\n",
       "      <td>July</td>\n",
       "      <td>20</td>\n",
       "      <td>Monday</td>\n",
       "      <td>Ashley Garcia</td>\n",
       "      <td>Genius in Love</td>\n",
       "      <td>Part 2: In Tad We Trust</td>\n",
       "      <td>TV Show</td>\n",
       "    </tr>\n",
       "    <tr>\n",
       "      <th>518</th>\n",
       "      <td>Larva Island: Season 1: Mango</td>\n",
       "      <td>2020-07-19</td>\n",
       "      <td>2020</td>\n",
       "      <td>July</td>\n",
       "      <td>19</td>\n",
       "      <td>Sunday</td>\n",
       "      <td>Larva Island</td>\n",
       "      <td>Season 1</td>\n",
       "      <td>Mango</td>\n",
       "      <td>TV Show</td>\n",
       "    </tr>\n",
       "    <tr>\n",
       "      <th>519</th>\n",
       "      <td>The Millions</td>\n",
       "      <td>2020-07-19</td>\n",
       "      <td>2020</td>\n",
       "      <td>July</td>\n",
       "      <td>19</td>\n",
       "      <td>Sunday</td>\n",
       "      <td>The Millions</td>\n",
       "      <td>None</td>\n",
       "      <td>None</td>\n",
       "      <td>Movie</td>\n",
       "    </tr>\n",
       "  </tbody>\n",
       "</table>\n",
       "<p>520 rows × 10 columns</p>\n",
       "</div>"
      ],
      "text/plain": [
       "                                                 Title       Date  Year  \\\n",
       "0    You Me Her: Season 4: The Deaf Leading the Bli... 2020-10-26  2020   \n",
       "1    You Me Her: Season 4: The Saddest Clown Show Ever 2020-10-25  2020   \n",
       "2    You Me Her: Season 4: Triangular Peg, Meet Rou... 2020-10-25  2020   \n",
       "3                                        Over the Moon 2020-10-25  2020   \n",
       "4                                              Rebecca 2020-10-24  2020   \n",
       "..                                                 ...        ...   ...   \n",
       "515  Ashley Garcia: Genius in Love: Part 2: Uninten... 2020-07-20  2020   \n",
       "516  Ashley Garcia: Genius in Love: Part 2: Failure... 2020-07-20  2020   \n",
       "517  Ashley Garcia: Genius in Love: Part 2: In Tad ... 2020-07-20  2020   \n",
       "518                      Larva Island: Season 1: Mango 2020-07-19  2020   \n",
       "519                                       The Millions 2020-07-19  2020   \n",
       "\n",
       "       Month  Day Day_of_week      show_name           season  \\\n",
       "0    October   26      Monday     You Me Her         Season 4   \n",
       "1    October   25      Sunday     You Me Her         Season 4   \n",
       "2    October   25      Sunday     You Me Her         Season 4   \n",
       "3    October   25      Sunday  Over the Moon             None   \n",
       "4    October   24    Saturday        Rebecca             None   \n",
       "..       ...  ...         ...            ...              ...   \n",
       "515     July   20      Monday  Ashley Garcia   Genius in Love   \n",
       "516     July   20      Monday  Ashley Garcia   Genius in Love   \n",
       "517     July   20      Monday  Ashley Garcia   Genius in Love   \n",
       "518     July   19      Sunday   Larva Island         Season 1   \n",
       "519     July   19      Sunday   The Millions             None   \n",
       "\n",
       "                                       episode_name show_type  \n",
       "0     The Deaf Leading the Blind Leading the Stupid   TV Show  \n",
       "1                       The Saddest Clown Show Ever   TV Show  \n",
       "2                   Triangular Peg, Meet Round Hole   TV Show  \n",
       "3                                              None     Movie  \n",
       "4                                              None     Movie  \n",
       "..                                              ...       ...  \n",
       "515                 Part 2: Unintended Consequences   TV Show  \n",
       "516                Part 2: Failure Is Not an Option   TV Show  \n",
       "517                         Part 2: In Tad We Trust   TV Show  \n",
       "518                                           Mango   TV Show  \n",
       "519                                            None     Movie  \n",
       "\n",
       "[520 rows x 10 columns]"
      ]
     },
     "execution_count": 6,
     "metadata": {},
     "output_type": "execute_result"
    }
   ],
   "source": [
    "#If the season column is \"None\" them it is most likely a movie, lets add another column to our dataframe \n",
    "#my_history[my_history['season'].isna()]\n",
    "df['show_type'] = df.apply(lambda x:'Movie' if pd.isnull(x['season']) else 'TV Show' , axis=1)\n",
    "df"
   ]
  },
  {
   "cell_type": "code",
   "execution_count": 40,
   "metadata": {},
   "outputs": [
    {
     "data": {
      "text/plain": [
       "<matplotlib.axes._subplots.AxesSubplot at 0x28d92cfca48>"
      ]
     },
     "execution_count": 40,
     "metadata": {},
     "output_type": "execute_result"
    },
    {
     "data": {
      "image/png": "[encoded data removed]",
      "text/plain": [
       "<Figure size 864x576 with 1 Axes>"
      ]
     },
     "metadata": {},
     "output_type": "display_data"
    }
   ],
   "source": [
    "plt.figure(figsize = (12, 8)) \n",
    "sns.countplot(x = 'Month', data = df)"
   ]
  },
  {
   "cell_type": "code",
   "execution_count": 17,
   "metadata": {},
   "outputs": [
    {
     "data": {
      "text/plain": [
       "<matplotlib.axes._subplots.AxesSubplot at 0x28d9020cc08>"
      ]
     },
     "execution_count": 17,
     "metadata": {},
     "output_type": "execute_result"
    },
    {
     "data": {
      "image/png": "[encoded data removed]",
      "text/plain": [
       "<Figure size 864x576 with 1 Axes>"
      ]
     },
     "metadata": {},
     "output_type": "display_data"
    }
   ],
   "source": [
    "plt.figure(figsize = (12, 8)) \n",
    "sns.countplot(x = 'Day', data = df)"
   ]
  },
  {
   "cell_type": "code",
   "execution_count": 18,
   "metadata": {},
   "outputs": [
    {
     "data": {
      "text/plain": [
       "<matplotlib.axes._subplots.AxesSubplot at 0x28d9026dd88>"
      ]
     },
     "execution_count": 18,
     "metadata": {},
     "output_type": "execute_result"
    },
    {
     "data": {
      "image/png": "[encoded data removed]",
      "text/plain": [
       "<Figure size 864x576 with 1 Axes>"
      ]
     },
     "metadata": {},
     "output_type": "display_data"
    }
   ],
   "source": [
    "plt.figure(figsize = (12, 8)) \n",
    "sns.countplot(x = 'show_type', data = df)"
   ]
  },
  {
   "cell_type": "code",
   "execution_count": 37,
   "metadata": {},
   "outputs": [
    {
     "data": {
      "text/plain": [
       "<matplotlib.axes._subplots.AxesSubplot at 0x28d92ab8ec8>"
      ]
     },
     "execution_count": 37,
     "metadata": {},
     "output_type": "execute_result"
    },
    {
     "data": {
      "image/png": "[encoded data removed]",
      "text/plain": [
       "<Figure size 1296x720 with 1 Axes>"
      ]
     },
     "metadata": {},
     "output_type": "display_data"
    }
   ],
   "source": [
    "plt.figure(figsize = (18, 10)) \n",
    "sns.countplot(y = 'show_name', data = df, order=df['show_name'].value_counts().iloc[:10].index)"
   ]
  },
  {
   "cell_type": "code",
   "execution_count": 31,
   "metadata": {},
   "outputs": [
    {
     "data": {
      "image/png": "[encoded data removed]",
      "text/plain": [
       "<Figure size 864x576 with 2 Axes>"
      ]
     },
     "metadata": {},
     "output_type": "display_data"
    }
   ],
   "source": [
    "plt.figure(figsize = (12, 8))\n",
    "ax=sns.heatmap(data=df.corr(), annot = True, cmap='seismic_r')"
   ]
  },
  {
   "cell_type": "code",
   "execution_count": null,
   "metadata": {},
   "outputs": [],
   "source": []
  }
 ],
 "metadata": {
  "kernelspec": {
   "display_name": "Python 3",
   "language": "python",
   "name": "python3"
  },
  "language_info": {
   "codemirror_mode": {
    "name": "ipython",
    "version": 3
   },
   "file_extension": ".py",
   "mimetype": "text/x-python",
   "name": "python",
   "nbconvert_exporter": "python",
   "pygments_lexer": "ipython3",
   "version": "3.7.6"
  }
 },
 "nbformat": 4,
 "nbformat_minor": 4
}
